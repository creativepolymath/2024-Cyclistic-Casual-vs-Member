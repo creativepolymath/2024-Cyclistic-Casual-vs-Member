{
 "cells": [
  {
   "cell_type": "code",
   "execution_count": 4,
   "id": "132e6580-78a1-4e2e-a8f6-2c6657c39ecf",
   "metadata": {},
   "outputs": [
    {
     "data": {
      "text/plain": [
       "'2.2.2'"
      ]
     },
     "execution_count": 4,
     "metadata": {},
     "output_type": "execute_result"
    }
   ],
   "source": [
    "import pandas as pd\n",
    "pandas.__version__"
   ]
  },
  {
   "cell_type": "code",
   "execution_count": 5,
   "id": "06914b2d-e4ba-48e5-9530-b2e88830ee35",
   "metadata": {},
   "outputs": [],
   "source": [
    "df1 = pd.read_csv('D:/OneDrive/Coursera/CaseStudy-BikeShare/2024-Cyclistic-Casual-vs-Member/CSV/202307-divvy-tripdata.csv')\n",
    "df2 = pd.read_csv('D:/OneDrive/Coursera/CaseStudy-BikeShare/2024-Cyclistic-Casual-vs-Member/CSV/202308-divvy-tripdata.csv')\n",
    "df3 = pd.read_csv('D:/OneDrive/Coursera/CaseStudy-BikeShare/2024-Cyclistic-Casual-vs-Member/CSV/202309-divvy-tripdata.csv')\n",
    "df4 = pd.read_csv('D:/OneDrive/Coursera/CaseStudy-BikeShare/2024-Cyclistic-Casual-vs-Member/CSV/202310-divvy-tripdata.csv')\n",
    "df5 = pd.read_csv('D:/OneDrive/Coursera/CaseStudy-BikeShare/2024-Cyclistic-Casual-vs-Member/CSV/202311-divvy-tripdata.csv')\n",
    "df6 = pd.read_csv('D:/OneDrive/Coursera/CaseStudy-BikeShare/2024-Cyclistic-Casual-vs-Member/CSV/202312-divvy-tripdata.csv')\n",
    "df7 = pd.read_csv('D:/OneDrive/Coursera/CaseStudy-BikeShare/2024-Cyclistic-Casual-vs-Member/CSV/202401-divvy-tripdata.csv')\n",
    "df8 = pd.read_csv('D:/OneDrive/Coursera/CaseStudy-BikeShare/2024-Cyclistic-Casual-vs-Member/CSV/202402-divvy-tripdata.csv')\n",
    "df8 = pd.read_csv('D:/OneDrive/Coursera/CaseStudy-BikeShare/2024-Cyclistic-Casual-vs-Member/CSV/202403-divvy-tripdata.csv')\n",
    "df10 = pd.read_csv('D:/OneDrive/Coursera/CaseStudy-BikeShare/2024-Cyclistic-Casual-vs-Member/CSV/202404-divvy-tripdata.csv')\n",
    "df11 = pd.read_csv('D:/OneDrive/Coursera/CaseStudy-BikeShare/2024-Cyclistic-Casual-vs-Member/CSV/202405-divvy-tripdata.csv')\n",
    "df12 = pd.read_csv('D:/OneDrive/Coursera/CaseStudy-BikeShare/2024-Cyclistic-Casual-vs-Member/CSV/202406-divvy-tripdata.csv')"
   ]
  },
  {
   "cell_type": "code",
   "execution_count": null,
   "id": "380e1af3-df65-4a9d-895c-da89467162b3",
   "metadata": {},
   "outputs": [],
   "source": []
  }
 ],
 "metadata": {
  "kernelspec": {
   "display_name": "Python 3 (ipykernel)",
   "language": "python",
   "name": "python3"
  },
  "language_info": {
   "codemirror_mode": {
    "name": "ipython",
    "version": 3
   },
   "file_extension": ".py",
   "mimetype": "text/x-python",
   "name": "python",
   "nbconvert_exporter": "python",
   "pygments_lexer": "ipython3",
   "version": "3.12.3"
  }
 },
 "nbformat": 4,
 "nbformat_minor": 5
}
