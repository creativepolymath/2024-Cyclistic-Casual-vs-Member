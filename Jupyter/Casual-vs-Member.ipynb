{
 "cells": [
  {
   "cell_type": "code",
   "execution_count": 7,
   "id": "132e6580-78a1-4e2e-a8f6-2c6657c39ecf",
   "metadata": {},
   "outputs": [
    {
     "data": {
      "text/plain": [
       "'2.2.2'"
      ]
     },
     "execution_count": 7,
     "metadata": {},
     "output_type": "execute_result"
    }
   ],
   "source": [
    "import pandas as pd\n",
    "pandas.__version__"
   ]
  },
  {
   "cell_type": "code",
   "execution_count": 5,
   "id": "06914b2d-e4ba-48e5-9530-b2e88830ee35",
   "metadata": {},
   "outputs": [],
   "source": [
    "df1 = pd.read_csv('D:/OneDrive/Coursera/CaseStudy-BikeShare/2024-Cyclistic-Casual-vs-Member/CSV/202307-divvy-tripdata.csv')\n",
    "df2 = pd.read_csv('D:/OneDrive/Coursera/CaseStudy-BikeShare/2024-Cyclistic-Casual-vs-Member/CSV/202308-divvy-tripdata.csv')\n",
    "df3 = pd.read_csv('D:/OneDrive/Coursera/CaseStudy-BikeShare/2024-Cyclistic-Casual-vs-Member/CSV/202309-divvy-tripdata.csv')\n",
    "df4 = pd.read_csv('D:/OneDrive/Coursera/CaseStudy-BikeShare/2024-Cyclistic-Casual-vs-Member/CSV/202310-divvy-tripdata.csv')\n",
    "df5 = pd.read_csv('D:/OneDrive/Coursera/CaseStudy-BikeShare/2024-Cyclistic-Casual-vs-Member/CSV/202311-divvy-tripdata.csv')\n",
    "df6 = pd.read_csv('D:/OneDrive/Coursera/CaseStudy-BikeShare/2024-Cyclistic-Casual-vs-Member/CSV/202312-divvy-tripdata.csv')\n",
    "df7 = pd.read_csv('D:/OneDrive/Coursera/CaseStudy-BikeShare/2024-Cyclistic-Casual-vs-Member/CSV/202401-divvy-tripdata.csv')\n",
    "df8 = pd.read_csv('D:/OneDrive/Coursera/CaseStudy-BikeShare/2024-Cyclistic-Casual-vs-Member/CSV/202402-divvy-tripdata.csv')\n",
    "df8 = pd.read_csv('D:/OneDrive/Coursera/CaseStudy-BikeShare/2024-Cyclistic-Casual-vs-Member/CSV/202403-divvy-tripdata.csv')\n",
    "df10 = pd.read_csv('D:/OneDrive/Coursera/CaseStudy-BikeShare/2024-Cyclistic-Casual-vs-Member/CSV/202404-divvy-tripdata.csv')\n",
    "df11 = pd.read_csv('D:/OneDrive/Coursera/CaseStudy-BikeShare/2024-Cyclistic-Casual-vs-Member/CSV/202405-divvy-tripdata.csv')\n",
    "df12 = pd.read_csv('D:/OneDrive/Coursera/CaseStudy-BikeShare/2024-Cyclistic-Casual-vs-Member/CSV/202406-divvy-tripdata.csv')"
   ]
  },
  {
   "cell_type": "code",
   "execution_count": 10,
   "id": "380e1af3-df65-4a9d-895c-da89467162b3",
   "metadata": {},
   "outputs": [
    {
     "name": "stdout",
     "output_type": "stream",
     "text": [
      "            ride_id  rideable_type               started_at  \\\n",
      "0  CDE6023BE6B11D2F  electric_bike  2024-06-11 17:20:06.289   \n",
      "1  462B48CD292B6A18  electric_bike  2024-06-11 17:19:21.567   \n",
      "2  9CFB6A858D23ABF7  electric_bike  2024-06-11 17:25:27.089   \n",
      "3  6365EFEB64231153  electric_bike  2024-06-11 11:53:50.769   \n",
      "4  BA0323C33134CBA8  electric_bike  2024-06-11 00:11:08.237   \n",
      "\n",
      "                  ended_at start_station_name start_station_id  \\\n",
      "0  2024-06-11 17:21:39.464                NaN              NaN   \n",
      "1  2024-06-11 17:19:36.377                NaN              NaN   \n",
      "2  2024-06-11 17:30:13.035                NaN              NaN   \n",
      "3  2024-06-11 12:08:13.382                NaN              NaN   \n",
      "4  2024-06-11 00:11:22.998                NaN              NaN   \n",
      "\n",
      "  end_station_name end_station_id  start_lat  start_lng  end_lat  end_lng  \\\n",
      "0              NaN            NaN      41.89     -87.65    41.89   -87.65   \n",
      "1              NaN            NaN      41.89     -87.65    41.89   -87.65   \n",
      "2              NaN            NaN      41.93     -87.65    41.94   -87.65   \n",
      "3              NaN            NaN      41.88     -87.64    41.88   -87.64   \n",
      "4              NaN            NaN      41.94     -87.64    41.94   -87.64   \n",
      "\n",
      "  member_casual  \n",
      "0        casual  \n",
      "1        casual  \n",
      "2        casual  \n",
      "3        casual  \n",
      "4        casual  \n"
     ]
    }
   ],
   "source": [
    "print(df12.head())"
   ]
  },
  {
   "cell_type": "code",
   "execution_count": null,
   "id": "49ffb798-154a-4f1a-81c2-b8644e2a63c6",
   "metadata": {},
   "outputs": [],
   "source": []
  },
  {
   "cell_type": "code",
   "execution_count": null,
   "id": "25a20cdb-6712-4546-b980-5cee8c507fff",
   "metadata": {},
   "outputs": [],
   "source": []
  }
 ],
 "metadata": {
  "kernelspec": {
   "display_name": "Python 3 (ipykernel)",
   "language": "python",
   "name": "python3"
  },
  "language_info": {
   "codemirror_mode": {
    "name": "ipython",
    "version": 3
   },
   "file_extension": ".py",
   "mimetype": "text/x-python",
   "name": "python",
   "nbconvert_exporter": "python",
   "pygments_lexer": "ipython3",
   "version": "3.12.3"
  }
 },
 "nbformat": 4,
 "nbformat_minor": 5
}
